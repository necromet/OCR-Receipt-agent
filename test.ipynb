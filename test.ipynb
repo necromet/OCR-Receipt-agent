{
 "cells": [
  {
   "cell_type": "code",
   "execution_count": 1,
   "id": "25839baf",
   "metadata": {},
   "outputs": [],
   "source": [
    "import pandas as pd\n",
    "\n",
    "image_path_1 = 'assets/images/image_1.jpeg'"
   ]
  },
  {
   "cell_type": "code",
   "execution_count": 2,
   "id": "7e401e5c",
   "metadata": {},
   "outputs": [
    {
     "name": "stdout",
     "output_type": "stream",
     "text": [
      "OpenAI Parsed Result: OpenAIResult(content: 576 chars, promptTokens: 1085, completionTokens: 987, totalTokens: 2072, reasoningTokens: 768, model: gpt-5-mini-2025-08-07)\n"
     ]
    }
   ],
   "source": [
    "from receipt_parsing import receipt_parsing_with_openai\n",
    "\n",
    "receipt_parsing_with_openai(image_path_1)"
   ]
  }
 ],
 "metadata": {
  "kernelspec": {
   "display_name": ".venv",
   "language": "python",
   "name": "python3"
  },
  "language_info": {
   "codemirror_mode": {
    "name": "ipython",
    "version": 3
   },
   "file_extension": ".py",
   "mimetype": "text/x-python",
   "name": "python",
   "nbconvert_exporter": "python",
   "pygments_lexer": "ipython3",
   "version": "3.12.3"
  }
 },
 "nbformat": 4,
 "nbformat_minor": 5
}
